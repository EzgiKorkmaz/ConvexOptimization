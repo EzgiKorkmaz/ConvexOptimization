{
 "cells": [
  {
   "cell_type": "code",
   "execution_count": 1,
   "metadata": {},
   "outputs": [
    {
     "ename": "ModuleNotFoundError",
     "evalue": "No module named 'pulp'",
     "output_type": "error",
     "traceback": [
      "\u001b[1;31m---------------------------------------------------------------------------\u001b[0m",
      "\u001b[1;31mModuleNotFoundError\u001b[0m                       Traceback (most recent call last)",
      "\u001b[1;32m<ipython-input-1-1831223112c3>\u001b[0m in \u001b[0;36m<module>\u001b[1;34m\u001b[0m\n\u001b[1;32m----> 1\u001b[1;33m \u001b[1;32mfrom\u001b[0m \u001b[0mpulp\u001b[0m \u001b[1;32mimport\u001b[0m \u001b[1;33m*\u001b[0m\u001b[1;33m\u001b[0m\u001b[1;33m\u001b[0m\u001b[0m\n\u001b[0m\u001b[0;32m      2\u001b[0m \u001b[1;33m\u001b[0m\u001b[0m\n\u001b[0;32m      3\u001b[0m \u001b[1;33m\u001b[0m\u001b[0m\n\u001b[0;32m      4\u001b[0m \u001b[0mprob\u001b[0m \u001b[1;33m=\u001b[0m \u001b[0mLpProblem\u001b[0m\u001b[1;33m(\u001b[0m\u001b[1;34m\"best_fit_line\"\u001b[0m\u001b[1;33m,\u001b[0m \u001b[0mLpMinimize\u001b[0m\u001b[1;33m)\u001b[0m\u001b[1;33m\u001b[0m\u001b[1;33m\u001b[0m\u001b[0m\n\u001b[0;32m      5\u001b[0m \u001b[0mz\u001b[0m \u001b[1;33m=\u001b[0m \u001b[0mLpVariable\u001b[0m\u001b[1;33m(\u001b[0m\u001b[1;34m'z'\u001b[0m\u001b[1;33m,\u001b[0m\u001b[1;36m0\u001b[0m\u001b[1;33m)\u001b[0m\u001b[1;33m\u001b[0m\u001b[1;33m\u001b[0m\u001b[0m\n",
      "\u001b[1;31mModuleNotFoundError\u001b[0m: No module named 'pulp'"
     ]
    }
   ],
   "source": [
    "from pulp import *\n",
    "\n",
    "\n",
    "prob = LpProblem(\"best_fit_line\", LpMinimize)\n",
    "z = LpVariable('z',0)\n",
    "a = LpVariable('a',0)\n",
    "c = LpVariable('c',0)\n",
    "\n",
    "# objective function\n",
    "prob += z\n",
    "\n",
    "m= 200\n",
    "k=4\n",
    "l=1\n",
    "x=np.random.randn(m,1)\n",
    "y=k*x+l+x\n",
    "y[199]=3*y[199]\n",
    "points=np.column_stack((x,y))\n",
    "\n",
    "prob += (a != 0)\n",
    "for x,y in points:\n",
    "    prob += (a*x - y - c <= z)\n",
    "    prob += (a*x - y - c >= -z)\n",
    "\n",
    "status = prob.solve(GLPK(msg = 0))\n",
    "print (\"status:\", LpStatus[status])\n",
    "print (\"values:\")\n",
    "\n",
    "\n",
    "\n",
    "print (\"\\tk:\", value(a))\n",
    "print (\"\\tl:\", value(c))\n",
    "print (\"\\tz:\", value(z))\n",
    "\n",
    "\n",
    "import numpy as np\n",
    "import matplotlib.pyplot as plt\n",
    "data = np.array(points)\n",
    "plt.scatter(data[:,0], data[:,1])\n",
    "x2 = np.linspace(-4, 4, 300)\n",
    "y2 = value(a)*x2 - value(c)\n",
    "plt.plot(x2, y2)\n",
    "plt.show()"
   ]
  },
  {
   "cell_type": "code",
   "execution_count": null,
   "metadata": {},
   "outputs": [],
   "source": []
  }
 ],
 "metadata": {
  "kernelspec": {
   "display_name": "Python 3",
   "language": "python",
   "name": "python3"
  },
  "language_info": {
   "codemirror_mode": {
    "name": "ipython",
    "version": 3
   },
   "file_extension": ".py",
   "mimetype": "text/x-python",
   "name": "python",
   "nbconvert_exporter": "python",
   "pygments_lexer": "ipython3",
   "version": "3.7.1"
  }
 },
 "nbformat": 4,
 "nbformat_minor": 2
}
